{
  "nbformat": 4,
  "nbformat_minor": 0,
  "metadata": {
    "colab": {
      "name": "grahamscan.ipynb",
      "provenance": [],
      "collapsed_sections": [],
      "authorship_tag": "ABX9TyMBby4Ay9fhg+WgU0aEfwnx",
      "include_colab_link": true
    },
    "kernelspec": {
      "name": "python3",
      "display_name": "Python 3"
    },
    "language_info": {
      "name": "python"
    }
  },
  "cells": [
    {
      "cell_type": "markdown",
      "metadata": {
        "id": "view-in-github",
        "colab_type": "text"
      },
      "source": [
        "<a href=\"https://colab.research.google.com/github/bhargavpetla/Bluetooth-module/blob/main/grahamscan.ipynb\" target=\"_parent\"><img src=\"https://colab.research.google.com/assets/colab-badge.svg\" alt=\"Open In Colab\"/></a>"
      ]
    },
    {
      "cell_type": "code",
      "metadata": {
        "colab": {
          "base_uri": "https://localhost:8080/",
          "height": 285
        },
        "id": "BJWaGqbOr-ay",
        "outputId": "df7dfb7c-14cd-49f6-e612-b8f26f763fbe"
      },
      "source": [
        "#create a random set of datapoints\n",
        "import random\n",
        "import matplotlib.pyplot as plt\n",
        "import numpy as np\n",
        "import seaborn; seaborn.set()\n",
        "\n",
        "number_of_datapoints = 50\n",
        "datapoints = np.random.randint(1,100,size=(number_of_datapoints,2))\n",
        "#plto the points on scatter plot\n",
        "plt.scatter(datapoints[:,0], datapoints[:,1])"
      ],
      "execution_count": 4,
      "outputs": [
        {
          "output_type": "execute_result",
          "data": {
            "text/plain": [
              "<matplotlib.collections.PathCollection at 0x7f86c56698d0>"
            ]
          },
          "metadata": {},
          "execution_count": 4
        },
        {
          "output_type": "display_data",
          "data": {
            "image/png": "[encoded data removed]",
            "text/plain": [
              "<Figure size 432x288 with 1 Axes>"
            ]
          },
          "metadata": {}
        }
      ]
    },
    {
      "cell_type": "code",
      "metadata": {
        "colab": {
          "base_uri": "https://localhost:8080/"
        },
        "id": "0juUOChTsqdd",
        "outputId": "7142327f-ba19-4c23-d465-6d17ad2002f0"
      },
      "source": [
        "anchor_point = datapoints[0]\n",
        "for _, point in enumerate(datapoints):\n",
        "    if point[1] < anchor_point[1]:\n",
        "        anchor_point = point\n",
        "    elif point[1] == anchor_point[1] and point[0] < anchor_point[0]:\n",
        "        anchor_point = point\n",
        "print(anchor_point)"
      ],
      "execution_count": 5,
      "outputs": [
        {
          "output_type": "stream",
          "name": "stdout",
          "text": [
            "[98  1]\n"
          ]
        }
      ]
    },
    {
      "cell_type": "code",
      "metadata": {
        "id": "7ahTHRqCsr85"
      },
      "source": [
        "from math import atan2\n",
        "\n",
        "def polar_angle(p0, p1):\n",
        "    y_span=p0[1]-p1[1]\n",
        "    x_span=p0[0]-p1[0]\n",
        "    return atan2(y_span,x_span)\n",
        "\n",
        "# find the angle\n",
        "datapoints_angles = []\n",
        "origin = [0,0]\n",
        "for _, point in enumerate(datapoints):\n",
        "    datapoints_angles.append([point[0],point[1], polar_angle(anchor_point, point)])\n",
        "\n",
        "datapoints_angles = np.array(datapoints_angles)    \n",
        "datapoints_angles = datapoints_angles[datapoints_angles[:,2].argsort()]\n",
        "sorted_datapoints =  datapoints_angles[:,(0,1)]"
      ],
      "execution_count": 6,
      "outputs": []
    },
    {
      "cell_type": "code",
      "metadata": {
        "colab": {
          "base_uri": "https://localhost:8080/",
          "height": 285
        },
        "id": "qjH6s3BvsvG5",
        "outputId": "d7b92168-6b97-4b6f-9da6-81a1784be7ef"
      },
      "source": [
        "plt.scatter(datapoints[:,0], datapoints[:,1])\n",
        "plt.scatter(sorted_datapoints[0:5,0], sorted_datapoints[0:5,1], c='g')"
      ],
      "execution_count": 7,
      "outputs": [
        {
          "output_type": "execute_result",
          "data": {
            "text/plain": [
              "<matplotlib.collections.PathCollection at 0x7f86c55e40d0>"
            ]
          },
          "metadata": {},
          "execution_count": 7
        },
        {
          "output_type": "display_data",
          "data": {
            "image/png": "[encoded data removed]",
            "text/plain": [
              "<Figure size 432x288 with 1 Axes>"
            ]
          },
          "metadata": {}
        }
      ]
    },
    {
      "cell_type": "code",
      "metadata": {
        "id": "OBs_a0lKs2-x"
      },
      "source": [
        "convex_hull = [anchor_point, sorted_datapoints[0]]"
      ],
      "execution_count": 8,
      "outputs": []
    },
    {
      "cell_type": "code",
      "metadata": {
        "id": "4bs7qpzHs8Wy"
      },
      "source": [
        "def ccw(a, b, c):\n",
        "    return (b[0] - a[0]) * (c[1] - a[1]) - (c[0] - a[0]) * (b[1] - a[1])\n",
        "\n",
        "for point in sorted_datapoints[1:]:\n",
        "    while ccw(convex_hull[-2],convex_hull[-1], point)<=0:\n",
        "        del convex_hull[-1] # backtrack\n",
        "    convex_hull.append(point)"
      ],
      "execution_count": 9,
      "outputs": []
    },
    {
      "cell_type": "code",
      "metadata": {
        "colab": {
          "base_uri": "https://localhost:8080/",
          "height": 285
        },
        "id": "Sen5rH4OtAX6",
        "outputId": "abfd876d-ffd6-4947-832e-bd51aeca6009"
      },
      "source": [
        "convex_hull = np.array(convex_hull)\n",
        "plt.scatter(datapoints_angles[:,0], datapoints_angles[:,1])\n",
        "plt.plot(convex_hull[:,0], convex_hull[:,1], c='g')"
      ],
      "execution_count": 10,
      "outputs": [
        {
          "output_type": "execute_result",
          "data": {
            "text/plain": [
              "[<matplotlib.lines.Line2D at 0x7f86c554ca90>]"
            ]
          },
          "metadata": {},
          "execution_count": 10
        },
        {
          "output_type": "display_data",
          "data": {
            "image/png": "[encoded data removed]",
            "text/plain": [
              "<Figure size 432x288 with 1 Axes>"
            ]
          },
          "metadata": {}
        }
      ]
    }
  ]
}